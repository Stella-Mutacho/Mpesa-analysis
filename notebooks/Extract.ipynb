{
 "cells": [
  {
   "cell_type": "code",
   "execution_count": 2,
   "metadata": {},
   "outputs": [],
   "source": [
    "import tabula\n",
    "import sys\n",
    "import pandas as pd\n",
    "sys.path.append('../data')"
   ]
  },
  {
   "cell_type": "code",
   "execution_count": 3,
   "metadata": {},
   "outputs": [],
   "source": [
    "sys.path.append('../scripts/')\n",
    "from clean_statements import Cleaner \n",
    "cleaner= Cleaner()"
   ]
  },
  {
   "cell_type": "code",
   "execution_count": 8,
   "metadata": {},
   "outputs": [
    {
     "name": "stderr",
     "output_type": "stream",
     "text": [
      "Got stderr: Sep 03, 2022 6:18:27 PM org.apache.pdfbox.pdmodel.font.PDType1Font <init>\n",
      "WARNING: Using fallback font LiberationSans for base font Symbol\n",
      "Sep 03, 2022 6:18:27 PM org.apache.pdfbox.pdmodel.font.PDType1Font <init>\n",
      "WARNING: Using fallback font LiberationSans for base font ZapfDingbats\n",
      "\n"
     ]
    }
   ],
   "source": [
    "# convert PDF into CSV\n",
    "tabula.convert_into(\"../data/Statement_All_Transactions_20220101_20220701.pdf\", \"../data/mpesaData.csv\", output_format=\"csv\", pages='all')"
   ]
  },
  {
   "cell_type": "code",
   "execution_count": 12,
   "metadata": {},
   "outputs": [],
   "source": [
    "summary= pd.read_csv('../data/mpesaData.csv', index_col = False,  nrows=11)\n",
    "summary.drop('Unnamed: 3', axis=1, inplace=True)"
   ]
  },
  {
   "cell_type": "code",
   "execution_count": 13,
   "metadata": {},
   "outputs": [
    {
     "data": {
      "text/html": [
       "<div>\n",
       "<style scoped>\n",
       "    .dataframe tbody tr th:only-of-type {\n",
       "        vertical-align: middle;\n",
       "    }\n",
       "\n",
       "    .dataframe tbody tr th {\n",
       "        vertical-align: top;\n",
       "    }\n",
       "\n",
       "    .dataframe thead th {\n",
       "        text-align: right;\n",
       "    }\n",
       "</style>\n",
       "<table border=\"1\" class=\"dataframe\">\n",
       "  <thead>\n",
       "    <tr style=\"text-align: right;\">\n",
       "      <th></th>\n",
       "      <th>TRANSACTION TYPE</th>\n",
       "      <th>PAID IN</th>\n",
       "      <th>PAID OUT</th>\n",
       "    </tr>\n",
       "  </thead>\n",
       "  <tbody>\n",
       "    <tr>\n",
       "      <th>0</th>\n",
       "      <td>Cash Out</td>\n",
       "      <td>0.00</td>\n",
       "      <td>7,390.00</td>\n",
       "    </tr>\n",
       "    <tr>\n",
       "      <th>1</th>\n",
       "      <td>Send Money</td>\n",
       "      <td>52,508.00</td>\n",
       "      <td>64,162.00</td>\n",
       "    </tr>\n",
       "    <tr>\n",
       "      <th>2</th>\n",
       "      <td>Transaction Reversal</td>\n",
       "      <td>50.00</td>\n",
       "      <td>0.00</td>\n",
       "    </tr>\n",
       "    <tr>\n",
       "      <th>3</th>\n",
       "      <td>B2C Payment</td>\n",
       "      <td>46,040.00</td>\n",
       "      <td>0.00</td>\n",
       "    </tr>\n",
       "    <tr>\n",
       "      <th>4</th>\n",
       "      <td>Pay Bill</td>\n",
       "      <td>0.00</td>\n",
       "      <td>39,039.00</td>\n",
       "    </tr>\n",
       "    <tr>\n",
       "      <th>5</th>\n",
       "      <td>Cash In</td>\n",
       "      <td>51,000.00</td>\n",
       "      <td>0.00</td>\n",
       "    </tr>\n",
       "    <tr>\n",
       "      <th>6</th>\n",
       "      <td>FSI Withdraw</td>\n",
       "      <td>17,000.00</td>\n",
       "      <td>0.00</td>\n",
       "    </tr>\n",
       "    <tr>\n",
       "      <th>7</th>\n",
       "      <td>FSI Deposit</td>\n",
       "      <td>0.00</td>\n",
       "      <td>12,959.00</td>\n",
       "    </tr>\n",
       "    <tr>\n",
       "      <th>8</th>\n",
       "      <td>Customer Merchant Payment</td>\n",
       "      <td>0.00</td>\n",
       "      <td>39,717.50</td>\n",
       "    </tr>\n",
       "    <tr>\n",
       "      <th>9</th>\n",
       "      <td>Customer Airtime Purchase</td>\n",
       "      <td>0.00</td>\n",
       "      <td>3,630.00</td>\n",
       "    </tr>\n",
       "    <tr>\n",
       "      <th>10</th>\n",
       "      <td>TOTAL:</td>\n",
       "      <td>166,598.00</td>\n",
       "      <td>166,897.50</td>\n",
       "    </tr>\n",
       "  </tbody>\n",
       "</table>\n",
       "</div>"
      ],
      "text/plain": [
       "             TRANSACTION TYPE     PAID IN    PAID OUT\n",
       "0                    Cash Out        0.00    7,390.00\n",
       "1                  Send Money   52,508.00   64,162.00\n",
       "2        Transaction Reversal       50.00        0.00\n",
       "3                 B2C Payment   46,040.00        0.00\n",
       "4                    Pay Bill        0.00   39,039.00\n",
       "5                     Cash In   51,000.00        0.00\n",
       "6                FSI Withdraw   17,000.00        0.00\n",
       "7                 FSI Deposit        0.00   12,959.00\n",
       "8   Customer Merchant Payment        0.00   39,717.50\n",
       "9   Customer Airtime Purchase        0.00    3,630.00\n",
       "10                     TOTAL:  166,598.00  166,897.50"
      ]
     },
     "execution_count": 13,
     "metadata": {},
     "output_type": "execute_result"
    }
   ],
   "source": [
    "summary"
   ]
  },
  {
   "cell_type": "code",
   "execution_count": 14,
   "metadata": {},
   "outputs": [],
   "source": [
    "summary.to_csv('../data/financialSummary.csv', index=False)"
   ]
  },
  {
   "cell_type": "code",
   "execution_count": 15,
   "metadata": {},
   "outputs": [],
   "source": [
    "Mpesa_data = pd.read_csv('../data/mpesaData.csv', index_col = False, skiprows=12)\n",
    "Mpesa_data.drop('Unnamed: 7', axis=1, inplace=True)"
   ]
  },
  {
   "cell_type": "code",
   "execution_count": 16,
   "metadata": {},
   "outputs": [
    {
     "data": {
      "text/html": [
       "<div>\n",
       "<style scoped>\n",
       "    .dataframe tbody tr th:only-of-type {\n",
       "        vertical-align: middle;\n",
       "    }\n",
       "\n",
       "    .dataframe tbody tr th {\n",
       "        vertical-align: top;\n",
       "    }\n",
       "\n",
       "    .dataframe thead th {\n",
       "        text-align: right;\n",
       "    }\n",
       "</style>\n",
       "<table border=\"1\" class=\"dataframe\">\n",
       "  <thead>\n",
       "    <tr style=\"text-align: right;\">\n",
       "      <th></th>\n",
       "      <th>Receipt No</th>\n",
       "      <th>Completion Time</th>\n",
       "      <th>Details</th>\n",
       "      <th>Transaction Status</th>\n",
       "      <th>Paid in</th>\n",
       "      <th>Withdraw\\rn</th>\n",
       "      <th>Balance</th>\n",
       "    </tr>\n",
       "  </thead>\n",
       "  <tbody>\n",
       "    <tr>\n",
       "      <th>0</th>\n",
       "      <td>QG19OUVM6L</td>\n",
       "      <td>2022-07-01 18:25:24</td>\n",
       "      <td>Customer Transfer to 254798***904 -\\rCaroline ...</td>\n",
       "      <td>COMPLETED</td>\n",
       "      <td>0.00</td>\n",
       "      <td>50.00</td>\n",
       "      <td>775.50</td>\n",
       "    </tr>\n",
       "    <tr>\n",
       "      <th>1</th>\n",
       "      <td>QG11OHV8NN</td>\n",
       "      <td>2022-07-01 16:04:31</td>\n",
       "      <td>Pay Bill Charge</td>\n",
       "      <td>COMPLETED</td>\n",
       "      <td>0.00</td>\n",
       "      <td>23.00</td>\n",
       "      <td>825.50</td>\n",
       "    </tr>\n",
       "    <tr>\n",
       "      <th>2</th>\n",
       "      <td>QG11OHV8NN</td>\n",
       "      <td>2022-07-01 16:04:31</td>\n",
       "      <td>Pay Bill to 200222 - NHIF Acc. 34664143</td>\n",
       "      <td>COMPLETED</td>\n",
       "      <td>0.00</td>\n",
       "      <td>500.00</td>\n",
       "      <td>848.50</td>\n",
       "    </tr>\n",
       "    <tr>\n",
       "      <th>3</th>\n",
       "      <td>QG10OHP9A0</td>\n",
       "      <td>2022-07-01 16:02:25</td>\n",
       "      <td>M-Shwari Withdraw</td>\n",
       "      <td>COMPLETED</td>\n",
       "      <td>1,000.00</td>\n",
       "      <td>0.00</td>\n",
       "      <td>1,348.50</td>\n",
       "    </tr>\n",
       "    <tr>\n",
       "      <th>4</th>\n",
       "      <td>QG16OF8PA4</td>\n",
       "      <td>2022-07-01 15:31:39</td>\n",
       "      <td>Merchant Payment to 779959 - NAIVAS\\rDEVELOPME...</td>\n",
       "      <td>COMPLETED</td>\n",
       "      <td>0.00</td>\n",
       "      <td>120.00</td>\n",
       "      <td>348.50</td>\n",
       "    </tr>\n",
       "  </tbody>\n",
       "</table>\n",
       "</div>"
      ],
      "text/plain": [
       "   Receipt No      Completion Time  \\\n",
       "0  QG19OUVM6L  2022-07-01 18:25:24   \n",
       "1  QG11OHV8NN  2022-07-01 16:04:31   \n",
       "2  QG11OHV8NN  2022-07-01 16:04:31   \n",
       "3  QG10OHP9A0  2022-07-01 16:02:25   \n",
       "4  QG16OF8PA4  2022-07-01 15:31:39   \n",
       "\n",
       "                                             Details Transaction Status  \\\n",
       "0  Customer Transfer to 254798***904 -\\rCaroline ...          COMPLETED   \n",
       "1                                    Pay Bill Charge          COMPLETED   \n",
       "2            Pay Bill to 200222 - NHIF Acc. 34664143          COMPLETED   \n",
       "3                                  M-Shwari Withdraw          COMPLETED   \n",
       "4  Merchant Payment to 779959 - NAIVAS\\rDEVELOPME...          COMPLETED   \n",
       "\n",
       "    Paid in Withdraw\\rn   Balance  \n",
       "0      0.00       50.00    775.50  \n",
       "1      0.00       23.00    825.50  \n",
       "2      0.00      500.00    848.50  \n",
       "3  1,000.00        0.00  1,348.50  \n",
       "4      0.00      120.00    348.50  "
      ]
     },
     "execution_count": 16,
     "metadata": {},
     "output_type": "execute_result"
    }
   ],
   "source": [
    "Mpesa_data.head()"
   ]
  },
  {
   "cell_type": "code",
   "execution_count": 9,
   "metadata": {},
   "outputs": [
    {
     "data": {
      "text/plain": [
       "COMPLETED             660\n",
       "Transaction Status     19\n",
       "Name: Transaction Status, dtype: int64"
      ]
     },
     "execution_count": 9,
     "metadata": {},
     "output_type": "execute_result"
    }
   ],
   "source": [
    "Mpesa_data['Transaction Status'].value_counts()"
   ]
  },
  {
   "cell_type": "markdown",
   "metadata": {},
   "source": [
    "1. Data Cleaning"
   ]
  },
  {
   "cell_type": "code",
   "execution_count": 10,
   "metadata": {},
   "outputs": [],
   "source": [
    "Clean_data= cleaner.removerowsByValue(Mpesa_data, column='Transaction Status', val='Transaction Status')"
   ]
  },
  {
   "cell_type": "code",
   "execution_count": 11,
   "metadata": {},
   "outputs": [
    {
     "data": {
      "text/plain": [
       "COMPLETED    660\n",
       "Name: Transaction Status, dtype: int64"
      ]
     },
     "execution_count": 11,
     "metadata": {},
     "output_type": "execute_result"
    }
   ],
   "source": [
    "Clean_data['Transaction Status'].value_counts()"
   ]
  },
  {
   "cell_type": "markdown",
   "metadata": {},
   "source": [
    "Drop the Transaction status since all transactions were completed"
   ]
  },
  {
   "cell_type": "code",
   "execution_count": 17,
   "metadata": {},
   "outputs": [],
   "source": [
    "Mpesa_data = pd.read_csv('../data/mpesaData.csv', index_col = False, skiprows=12)\n",
    "Mpesa_data.drop('Unnamed: 7', axis=1, inplace=True)"
   ]
  },
  {
   "cell_type": "code",
   "execution_count": 31,
   "metadata": {},
   "outputs": [
    {
     "data": {
      "text/html": [
       "<div>\n",
       "<style scoped>\n",
       "    .dataframe tbody tr th:only-of-type {\n",
       "        vertical-align: middle;\n",
       "    }\n",
       "\n",
       "    .dataframe tbody tr th {\n",
       "        vertical-align: top;\n",
       "    }\n",
       "\n",
       "    .dataframe thead th {\n",
       "        text-align: right;\n",
       "    }\n",
       "</style>\n",
       "<table border=\"1\" class=\"dataframe\">\n",
       "  <thead>\n",
       "    <tr style=\"text-align: right;\">\n",
       "      <th></th>\n",
       "      <th>Receipt No</th>\n",
       "      <th>Completion Time</th>\n",
       "      <th>Details</th>\n",
       "      <th>Transaction Status</th>\n",
       "      <th>Paid in</th>\n",
       "      <th>Withdraw\\rn</th>\n",
       "      <th>Balance</th>\n",
       "    </tr>\n",
       "  </thead>\n",
       "  <tbody>\n",
       "    <tr>\n",
       "      <th>674</th>\n",
       "      <td>Receipt No</td>\n",
       "      <td>Completion Time</td>\n",
       "      <td>Details</td>\n",
       "      <td>Transaction Status</td>\n",
       "      <td>Paid in</td>\n",
       "      <td>Withdraw\\rn</td>\n",
       "      <td>Balance</td>\n",
       "    </tr>\n",
       "    <tr>\n",
       "      <th>675</th>\n",
       "      <td>QA516GVQ0H</td>\n",
       "      <td>2022-01-05 15:55:39</td>\n",
       "      <td>Buy Bundles</td>\n",
       "      <td>COMPLETED</td>\n",
       "      <td>0.00</td>\n",
       "      <td>20.00</td>\n",
       "      <td>5.00</td>\n",
       "    </tr>\n",
       "    <tr>\n",
       "      <th>676</th>\n",
       "      <td>QA5369RQA5</td>\n",
       "      <td>2022-01-05 13:56:44</td>\n",
       "      <td>Buy Bundles</td>\n",
       "      <td>COMPLETED</td>\n",
       "      <td>0.00</td>\n",
       "      <td>50.00</td>\n",
       "      <td>25.00</td>\n",
       "    </tr>\n",
       "    <tr>\n",
       "      <th>677</th>\n",
       "      <td>QA4552ABBB</td>\n",
       "      <td>2022-01-04 18:25:46</td>\n",
       "      <td>Merchant Payment to 7899629 -\\rDORCAS     CHEP...</td>\n",
       "      <td>COMPLETED</td>\n",
       "      <td>0.00</td>\n",
       "      <td>300.00</td>\n",
       "      <td>75.00</td>\n",
       "    </tr>\n",
       "    <tr>\n",
       "      <th>678</th>\n",
       "      <td>QA4552782V</td>\n",
       "      <td>2022-01-04 18:24:54</td>\n",
       "      <td>M-Shwari Withdraw</td>\n",
       "      <td>COMPLETED</td>\n",
       "      <td>200.00</td>\n",
       "      <td>0.00</td>\n",
       "      <td>375.00</td>\n",
       "    </tr>\n",
       "  </tbody>\n",
       "</table>\n",
       "</div>"
      ],
      "text/plain": [
       "     Receipt No      Completion Time  \\\n",
       "674  Receipt No      Completion Time   \n",
       "675  QA516GVQ0H  2022-01-05 15:55:39   \n",
       "676  QA5369RQA5  2022-01-05 13:56:44   \n",
       "677  QA4552ABBB  2022-01-04 18:25:46   \n",
       "678  QA4552782V  2022-01-04 18:24:54   \n",
       "\n",
       "                                               Details  Transaction Status  \\\n",
       "674                                            Details  Transaction Status   \n",
       "675                                        Buy Bundles           COMPLETED   \n",
       "676                                        Buy Bundles           COMPLETED   \n",
       "677  Merchant Payment to 7899629 -\\rDORCAS     CHEP...           COMPLETED   \n",
       "678                                  M-Shwari Withdraw           COMPLETED   \n",
       "\n",
       "     Paid in  Withdraw\\rn  Balance  \n",
       "674  Paid in  Withdraw\\rn  Balance  \n",
       "675     0.00        20.00     5.00  \n",
       "676     0.00        50.00    25.00  \n",
       "677     0.00       300.00    75.00  \n",
       "678   200.00         0.00   375.00  "
      ]
     },
     "execution_count": 31,
     "metadata": {},
     "output_type": "execute_result"
    }
   ],
   "source": [
    "Mpesa_data.tail()"
   ]
  },
  {
   "cell_type": "code",
   "execution_count": 19,
   "metadata": {},
   "outputs": [],
   "source": [
    "details=Mpesa_data['Details']"
   ]
  },
  {
   "cell_type": "code",
   "execution_count": 20,
   "metadata": {},
   "outputs": [
    {
     "data": {
      "text/plain": [
       "0      Customer Transfer to 254798***904 -\\rCaroline ...\n",
       "1                                        Pay Bill Charge\n",
       "2                Pay Bill to 200222 - NHIF Acc. 34664143\n",
       "3                                      M-Shwari Withdraw\n",
       "4      Merchant Payment to 779959 - NAIVAS\\rDEVELOPME...\n",
       "                             ...                        \n",
       "674                                              Details\n",
       "675                                          Buy Bundles\n",
       "676                                          Buy Bundles\n",
       "677    Merchant Payment to 7899629 -\\rDORCAS     CHEP...\n",
       "678                                    M-Shwari Withdraw\n",
       "Name: Details, Length: 679, dtype: object"
      ]
     },
     "execution_count": 20,
     "metadata": {},
     "output_type": "execute_result"
    }
   ],
   "source": [
    "details"
   ]
  },
  {
   "cell_type": "code",
   "execution_count": 35,
   "metadata": {},
   "outputs": [],
   "source": [
    "from unicodedata import category\n",
    "\n",
    "\n",
    "def read_details(details):\n",
    "    detsA=[]\n",
    "    \n",
    "    for row in details:\n",
    "        if 'Pay Bill Online ' in row:\n",
    "            category= 'Pay Bill Online'\n",
    "        elif 'Customer Transfer' in row:\n",
    "            category = 'Customer Transfer'\n",
    "        elif 'Merchant Payment 'in row :\n",
    "            category= 'Merchant Payment'\n",
    "        elif 'Business Payment' in row:\n",
    "            category = 'Business Payment' \n",
    "        elif 'Funds received' in row:\n",
    "            category = 'Funds received'\n",
    "        elif 'Customer Withdrawal' in row:\n",
    "            category = 'Customer Withdrawal'\n",
    "        elif 'Deposit of Funds':\n",
    "            category = 'Deposit of Funds'\n",
    "        else:\n",
    "            category= row\n",
    "        detsA.append(category)\n",
    "    return detsA\n",
    "    \n"
   ]
  },
  {
   "cell_type": "code",
   "execution_count": 37,
   "metadata": {},
   "outputs": [],
   "source": [
    "details= read_details(details)"
   ]
  },
  {
   "cell_type": "code",
   "execution_count": 38,
   "metadata": {},
   "outputs": [],
   "source": [
    "Mpesa_data['Details']=details"
   ]
  },
  {
   "cell_type": "code",
   "execution_count": 39,
   "metadata": {},
   "outputs": [
    {
     "data": {
      "text/html": [
       "<div>\n",
       "<style scoped>\n",
       "    .dataframe tbody tr th:only-of-type {\n",
       "        vertical-align: middle;\n",
       "    }\n",
       "\n",
       "    .dataframe tbody tr th {\n",
       "        vertical-align: top;\n",
       "    }\n",
       "\n",
       "    .dataframe thead th {\n",
       "        text-align: right;\n",
       "    }\n",
       "</style>\n",
       "<table border=\"1\" class=\"dataframe\">\n",
       "  <thead>\n",
       "    <tr style=\"text-align: right;\">\n",
       "      <th></th>\n",
       "      <th>Receipt No</th>\n",
       "      <th>Completion Time</th>\n",
       "      <th>Details</th>\n",
       "      <th>Transaction Status</th>\n",
       "      <th>Paid in</th>\n",
       "      <th>Withdraw\\rn</th>\n",
       "      <th>Balance</th>\n",
       "    </tr>\n",
       "  </thead>\n",
       "  <tbody>\n",
       "    <tr>\n",
       "      <th>0</th>\n",
       "      <td>QG19OUVM6L</td>\n",
       "      <td>2022-07-01 18:25:24</td>\n",
       "      <td>Customer Transfer</td>\n",
       "      <td>COMPLETED</td>\n",
       "      <td>0.00</td>\n",
       "      <td>50.00</td>\n",
       "      <td>775.50</td>\n",
       "    </tr>\n",
       "    <tr>\n",
       "      <th>1</th>\n",
       "      <td>QG11OHV8NN</td>\n",
       "      <td>2022-07-01 16:04:31</td>\n",
       "      <td>Deposit of Funds</td>\n",
       "      <td>COMPLETED</td>\n",
       "      <td>0.00</td>\n",
       "      <td>23.00</td>\n",
       "      <td>825.50</td>\n",
       "    </tr>\n",
       "    <tr>\n",
       "      <th>2</th>\n",
       "      <td>QG11OHV8NN</td>\n",
       "      <td>2022-07-01 16:04:31</td>\n",
       "      <td>Deposit of Funds</td>\n",
       "      <td>COMPLETED</td>\n",
       "      <td>0.00</td>\n",
       "      <td>500.00</td>\n",
       "      <td>848.50</td>\n",
       "    </tr>\n",
       "    <tr>\n",
       "      <th>3</th>\n",
       "      <td>QG10OHP9A0</td>\n",
       "      <td>2022-07-01 16:02:25</td>\n",
       "      <td>Deposit of Funds</td>\n",
       "      <td>COMPLETED</td>\n",
       "      <td>1,000.00</td>\n",
       "      <td>0.00</td>\n",
       "      <td>1,348.50</td>\n",
       "    </tr>\n",
       "    <tr>\n",
       "      <th>4</th>\n",
       "      <td>QG16OF8PA4</td>\n",
       "      <td>2022-07-01 15:31:39</td>\n",
       "      <td>Merchant Payment</td>\n",
       "      <td>COMPLETED</td>\n",
       "      <td>0.00</td>\n",
       "      <td>120.00</td>\n",
       "      <td>348.50</td>\n",
       "    </tr>\n",
       "  </tbody>\n",
       "</table>\n",
       "</div>"
      ],
      "text/plain": [
       "   Receipt No      Completion Time            Details Transaction Status  \\\n",
       "0  QG19OUVM6L  2022-07-01 18:25:24  Customer Transfer          COMPLETED   \n",
       "1  QG11OHV8NN  2022-07-01 16:04:31   Deposit of Funds          COMPLETED   \n",
       "2  QG11OHV8NN  2022-07-01 16:04:31   Deposit of Funds          COMPLETED   \n",
       "3  QG10OHP9A0  2022-07-01 16:02:25   Deposit of Funds          COMPLETED   \n",
       "4  QG16OF8PA4  2022-07-01 15:31:39   Merchant Payment          COMPLETED   \n",
       "\n",
       "    Paid in Withdraw\\rn   Balance  \n",
       "0      0.00       50.00    775.50  \n",
       "1      0.00       23.00    825.50  \n",
       "2      0.00      500.00    848.50  \n",
       "3  1,000.00        0.00  1,348.50  \n",
       "4      0.00      120.00    348.50  "
      ]
     },
     "execution_count": 39,
     "metadata": {},
     "output_type": "execute_result"
    }
   ],
   "source": [
    "Mpesa_data.head()"
   ]
  },
  {
   "cell_type": "code",
   "execution_count": 43,
   "metadata": {},
   "outputs": [
    {
     "data": {
      "text/plain": [
       "679"
      ]
     },
     "execution_count": 43,
     "metadata": {},
     "output_type": "execute_result"
    }
   ],
   "source": [
    "Mpesa_data['Details'].value_counts().sum()"
   ]
  },
  {
   "cell_type": "code",
   "execution_count": 17,
   "metadata": {},
   "outputs": [],
   "source": [
    "Data= cleaner.drop_columns(Clean_data,'Transaction Status')"
   ]
  },
  {
   "cell_type": "code",
   "execution_count": 18,
   "metadata": {},
   "outputs": [
    {
     "data": {
      "text/html": [
       "<div>\n",
       "<style scoped>\n",
       "    .dataframe tbody tr th:only-of-type {\n",
       "        vertical-align: middle;\n",
       "    }\n",
       "\n",
       "    .dataframe tbody tr th {\n",
       "        vertical-align: top;\n",
       "    }\n",
       "\n",
       "    .dataframe thead th {\n",
       "        text-align: right;\n",
       "    }\n",
       "</style>\n",
       "<table border=\"1\" class=\"dataframe\">\n",
       "  <thead>\n",
       "    <tr style=\"text-align: right;\">\n",
       "      <th></th>\n",
       "      <th>Receipt No</th>\n",
       "      <th>Completion Time</th>\n",
       "      <th>Details</th>\n",
       "      <th>Paid in</th>\n",
       "      <th>Withdraw\\rn</th>\n",
       "      <th>Balance</th>\n",
       "    </tr>\n",
       "  </thead>\n",
       "  <tbody>\n",
       "    <tr>\n",
       "      <th>0</th>\n",
       "      <td>QG19OUVM6L</td>\n",
       "      <td>2022-07-01 18:25:24</td>\n",
       "      <td>Customer Transfer to 254798***904 -\\rCaroline ...</td>\n",
       "      <td>0.00</td>\n",
       "      <td>50.00</td>\n",
       "      <td>775.50</td>\n",
       "    </tr>\n",
       "    <tr>\n",
       "      <th>1</th>\n",
       "      <td>QG11OHV8NN</td>\n",
       "      <td>2022-07-01 16:04:31</td>\n",
       "      <td>Pay Bill Charge</td>\n",
       "      <td>0.00</td>\n",
       "      <td>23.00</td>\n",
       "      <td>825.50</td>\n",
       "    </tr>\n",
       "    <tr>\n",
       "      <th>2</th>\n",
       "      <td>QG11OHV8NN</td>\n",
       "      <td>2022-07-01 16:04:31</td>\n",
       "      <td>Pay Bill to 200222 - NHIF Acc. 34664143</td>\n",
       "      <td>0.00</td>\n",
       "      <td>500.00</td>\n",
       "      <td>848.50</td>\n",
       "    </tr>\n",
       "    <tr>\n",
       "      <th>3</th>\n",
       "      <td>QG10OHP9A0</td>\n",
       "      <td>2022-07-01 16:02:25</td>\n",
       "      <td>M-Shwari Withdraw</td>\n",
       "      <td>1,000.00</td>\n",
       "      <td>0.00</td>\n",
       "      <td>1,348.50</td>\n",
       "    </tr>\n",
       "    <tr>\n",
       "      <th>4</th>\n",
       "      <td>QG16OF8PA4</td>\n",
       "      <td>2022-07-01 15:31:39</td>\n",
       "      <td>Merchant Payment to 779959 - NAIVAS\\rDEVELOPME...</td>\n",
       "      <td>0.00</td>\n",
       "      <td>120.00</td>\n",
       "      <td>348.50</td>\n",
       "    </tr>\n",
       "  </tbody>\n",
       "</table>\n",
       "</div>"
      ],
      "text/plain": [
       "   Receipt No      Completion Time  \\\n",
       "0  QG19OUVM6L  2022-07-01 18:25:24   \n",
       "1  QG11OHV8NN  2022-07-01 16:04:31   \n",
       "2  QG11OHV8NN  2022-07-01 16:04:31   \n",
       "3  QG10OHP9A0  2022-07-01 16:02:25   \n",
       "4  QG16OF8PA4  2022-07-01 15:31:39   \n",
       "\n",
       "                                             Details   Paid in Withdraw\\rn  \\\n",
       "0  Customer Transfer to 254798***904 -\\rCaroline ...      0.00       50.00   \n",
       "1                                    Pay Bill Charge      0.00       23.00   \n",
       "2            Pay Bill to 200222 - NHIF Acc. 34664143      0.00      500.00   \n",
       "3                                  M-Shwari Withdraw  1,000.00        0.00   \n",
       "4  Merchant Payment to 779959 - NAIVAS\\rDEVELOPME...      0.00      120.00   \n",
       "\n",
       "    Balance  \n",
       "0    775.50  \n",
       "1    825.50  \n",
       "2    848.50  \n",
       "3  1,348.50  \n",
       "4    348.50  "
      ]
     },
     "execution_count": 18,
     "metadata": {},
     "output_type": "execute_result"
    }
   ],
   "source": [
    "Data.head()"
   ]
  },
  {
   "cell_type": "code",
   "execution_count": 19,
   "metadata": {},
   "outputs": [],
   "source": [
    "Data.to_csv('../data/TransactionData.csv', index=False)"
   ]
  },
  {
   "cell_type": "code",
   "execution_count": 6,
   "metadata": {},
   "outputs": [
    {
     "ename": "ParserError",
     "evalue": "Error tokenizing data. C error: Expected 5 fields in line 5, saw 6\n",
     "output_type": "error",
     "traceback": [
      "\u001b[0;31m---------------------------------------------------------------------------\u001b[0m",
      "\u001b[0;31mParserError\u001b[0m                               Traceback (most recent call last)",
      "\u001b[1;32m/home/stella/Documents/Interviews/Mpesa-analysis/notebooks/Extract.ipynb Cell 17\u001b[0m in \u001b[0;36m<cell line: 1>\u001b[0;34m()\u001b[0m\n\u001b[0;32m----> <a href='vscode-notebook-cell:/home/stella/Documents/Interviews/Mpesa-analysis/notebooks/Extract.ipynb#ch0000023?line=0'>1</a>\u001b[0m Data\u001b[39m=\u001b[39mpd\u001b[39m.\u001b[39;49mread_csv(\u001b[39m'\u001b[39;49m\u001b[39m../data/TransactionData.csv\u001b[39;49m\u001b[39m'\u001b[39;49m)\n",
      "File \u001b[0;32m~/Documents/Interviews/Mpesa-analysis/venv/lib/python3.8/site-packages/pandas/util/_decorators.py:311\u001b[0m, in \u001b[0;36mdeprecate_nonkeyword_arguments.<locals>.decorate.<locals>.wrapper\u001b[0;34m(*args, **kwargs)\u001b[0m\n\u001b[1;32m    305\u001b[0m \u001b[39mif\u001b[39;00m \u001b[39mlen\u001b[39m(args) \u001b[39m>\u001b[39m num_allow_args:\n\u001b[1;32m    306\u001b[0m     warnings\u001b[39m.\u001b[39mwarn(\n\u001b[1;32m    307\u001b[0m         msg\u001b[39m.\u001b[39mformat(arguments\u001b[39m=\u001b[39marguments),\n\u001b[1;32m    308\u001b[0m         \u001b[39mFutureWarning\u001b[39;00m,\n\u001b[1;32m    309\u001b[0m         stacklevel\u001b[39m=\u001b[39mstacklevel,\n\u001b[1;32m    310\u001b[0m     )\n\u001b[0;32m--> 311\u001b[0m \u001b[39mreturn\u001b[39;00m func(\u001b[39m*\u001b[39;49margs, \u001b[39m*\u001b[39;49m\u001b[39m*\u001b[39;49mkwargs)\n",
      "File \u001b[0;32m~/Documents/Interviews/Mpesa-analysis/venv/lib/python3.8/site-packages/pandas/io/parsers/readers.py:678\u001b[0m, in \u001b[0;36mread_csv\u001b[0;34m(filepath_or_buffer, sep, delimiter, header, names, index_col, usecols, squeeze, prefix, mangle_dupe_cols, dtype, engine, converters, true_values, false_values, skipinitialspace, skiprows, skipfooter, nrows, na_values, keep_default_na, na_filter, verbose, skip_blank_lines, parse_dates, infer_datetime_format, keep_date_col, date_parser, dayfirst, cache_dates, iterator, chunksize, compression, thousands, decimal, lineterminator, quotechar, quoting, doublequote, escapechar, comment, encoding, encoding_errors, dialect, error_bad_lines, warn_bad_lines, on_bad_lines, delim_whitespace, low_memory, memory_map, float_precision, storage_options)\u001b[0m\n\u001b[1;32m    663\u001b[0m kwds_defaults \u001b[39m=\u001b[39m _refine_defaults_read(\n\u001b[1;32m    664\u001b[0m     dialect,\n\u001b[1;32m    665\u001b[0m     delimiter,\n\u001b[0;32m   (...)\u001b[0m\n\u001b[1;32m    674\u001b[0m     defaults\u001b[39m=\u001b[39m{\u001b[39m\"\u001b[39m\u001b[39mdelimiter\u001b[39m\u001b[39m\"\u001b[39m: \u001b[39m\"\u001b[39m\u001b[39m,\u001b[39m\u001b[39m\"\u001b[39m},\n\u001b[1;32m    675\u001b[0m )\n\u001b[1;32m    676\u001b[0m kwds\u001b[39m.\u001b[39mupdate(kwds_defaults)\n\u001b[0;32m--> 678\u001b[0m \u001b[39mreturn\u001b[39;00m _read(filepath_or_buffer, kwds)\n",
      "File \u001b[0;32m~/Documents/Interviews/Mpesa-analysis/venv/lib/python3.8/site-packages/pandas/io/parsers/readers.py:581\u001b[0m, in \u001b[0;36m_read\u001b[0;34m(filepath_or_buffer, kwds)\u001b[0m\n\u001b[1;32m    578\u001b[0m     \u001b[39mreturn\u001b[39;00m parser\n\u001b[1;32m    580\u001b[0m \u001b[39mwith\u001b[39;00m parser:\n\u001b[0;32m--> 581\u001b[0m     \u001b[39mreturn\u001b[39;00m parser\u001b[39m.\u001b[39;49mread(nrows)\n",
      "File \u001b[0;32m~/Documents/Interviews/Mpesa-analysis/venv/lib/python3.8/site-packages/pandas/io/parsers/readers.py:1253\u001b[0m, in \u001b[0;36mTextFileReader.read\u001b[0;34m(self, nrows)\u001b[0m\n\u001b[1;32m   1251\u001b[0m nrows \u001b[39m=\u001b[39m validate_integer(\u001b[39m\"\u001b[39m\u001b[39mnrows\u001b[39m\u001b[39m\"\u001b[39m, nrows)\n\u001b[1;32m   1252\u001b[0m \u001b[39mtry\u001b[39;00m:\n\u001b[0;32m-> 1253\u001b[0m     index, columns, col_dict \u001b[39m=\u001b[39m \u001b[39mself\u001b[39;49m\u001b[39m.\u001b[39;49m_engine\u001b[39m.\u001b[39;49mread(nrows)\n\u001b[1;32m   1254\u001b[0m \u001b[39mexcept\u001b[39;00m \u001b[39mException\u001b[39;00m:\n\u001b[1;32m   1255\u001b[0m     \u001b[39mself\u001b[39m\u001b[39m.\u001b[39mclose()\n",
      "File \u001b[0;32m~/Documents/Interviews/Mpesa-analysis/venv/lib/python3.8/site-packages/pandas/io/parsers/c_parser_wrapper.py:225\u001b[0m, in \u001b[0;36mCParserWrapper.read\u001b[0;34m(self, nrows)\u001b[0m\n\u001b[1;32m    223\u001b[0m \u001b[39mtry\u001b[39;00m:\n\u001b[1;32m    224\u001b[0m     \u001b[39mif\u001b[39;00m \u001b[39mself\u001b[39m\u001b[39m.\u001b[39mlow_memory:\n\u001b[0;32m--> 225\u001b[0m         chunks \u001b[39m=\u001b[39m \u001b[39mself\u001b[39;49m\u001b[39m.\u001b[39;49m_reader\u001b[39m.\u001b[39;49mread_low_memory(nrows)\n\u001b[1;32m    226\u001b[0m         \u001b[39m# destructive to chunks\u001b[39;00m\n\u001b[1;32m    227\u001b[0m         data \u001b[39m=\u001b[39m _concatenate_chunks(chunks)\n",
      "File \u001b[0;32m~/Documents/Interviews/Mpesa-analysis/venv/lib/python3.8/site-packages/pandas/_libs/parsers.pyx:805\u001b[0m, in \u001b[0;36mpandas._libs.parsers.TextReader.read_low_memory\u001b[0;34m()\u001b[0m\n",
      "File \u001b[0;32m~/Documents/Interviews/Mpesa-analysis/venv/lib/python3.8/site-packages/pandas/_libs/parsers.pyx:861\u001b[0m, in \u001b[0;36mpandas._libs.parsers.TextReader._read_rows\u001b[0;34m()\u001b[0m\n",
      "File \u001b[0;32m~/Documents/Interviews/Mpesa-analysis/venv/lib/python3.8/site-packages/pandas/_libs/parsers.pyx:847\u001b[0m, in \u001b[0;36mpandas._libs.parsers.TextReader._tokenize_rows\u001b[0;34m()\u001b[0m\n",
      "File \u001b[0;32m~/Documents/Interviews/Mpesa-analysis/venv/lib/python3.8/site-packages/pandas/_libs/parsers.pyx:1960\u001b[0m, in \u001b[0;36mpandas._libs.parsers.raise_parser_error\u001b[0;34m()\u001b[0m\n",
      "\u001b[0;31mParserError\u001b[0m: Error tokenizing data. C error: Expected 5 fields in line 5, saw 6\n"
     ]
    }
   ],
   "source": [
    "Data=pd.read_csv('../data/TransactionData.csv')"
   ]
  },
  {
   "cell_type": "code",
   "execution_count": 21,
   "metadata": {},
   "outputs": [
    {
     "data": {
      "text/plain": [
       "Receipt No         object\n",
       "Completion Time    object\n",
       "Details            object\n",
       "Paid in            object\n",
       "Withdraw\\rn        object\n",
       "Balance            object\n",
       "dtype: object"
      ]
     },
     "execution_count": 21,
     "metadata": {},
     "output_type": "execute_result"
    }
   ],
   "source": [
    "Data.dtypes"
   ]
  },
  {
   "cell_type": "markdown",
   "metadata": {},
   "source": [
    "Convert columns to the correct data types"
   ]
  },
  {
   "cell_type": "code",
   "execution_count": null,
   "metadata": {},
   "outputs": [],
   "source": []
  }
 ],
 "metadata": {
  "kernelspec": {
   "display_name": "Python 3.8.10 ('venv': venv)",
   "language": "python",
   "name": "python3"
  },
  "language_info": {
   "codemirror_mode": {
    "name": "ipython",
    "version": 3
   },
   "file_extension": ".py",
   "mimetype": "text/x-python",
   "name": "python",
   "nbconvert_exporter": "python",
   "pygments_lexer": "ipython3",
   "version": "3.8.10"
  },
  "orig_nbformat": 4,
  "vscode": {
   "interpreter": {
    "hash": "fe2f5d5bf8828a57a351850767e4991fcb579696e98cbb464c1a557293ae9ff3"
   }
  }
 },
 "nbformat": 4,
 "nbformat_minor": 2
}
