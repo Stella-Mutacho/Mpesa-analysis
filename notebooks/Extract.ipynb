{
 "cells": [
  {
   "cell_type": "code",
   "execution_count": 1,
   "metadata": {},
   "outputs": [],
   "source": [
    "import tabula\n",
    "import sys\n",
    "import pandas as pd\n",
    "sys.path.append('../data')"
   ]
  },
  {
   "cell_type": "code",
   "execution_count": 2,
   "metadata": {},
   "outputs": [],
   "source": [
    "sys.path.append('../scripts/python')\n",
    "from clean_statements import Cleaner \n",
    "cleaner= Cleaner()"
   ]
  },
  {
   "cell_type": "code",
   "execution_count": 3,
   "metadata": {},
   "outputs": [
    {
     "name": "stderr",
     "output_type": "stream",
     "text": [
      "Got stderr: Sep 06, 2022 8:14:54 PM org.apache.pdfbox.pdmodel.font.PDType1Font <init>\n",
      "WARNING: Using fallback font LiberationSans for base font Symbol\n",
      "Sep 06, 2022 8:14:54 PM org.apache.pdfbox.pdmodel.font.PDType1Font <init>\n",
      "WARNING: Using fallback font LiberationSans for base font ZapfDingbats\n",
      "\n"
     ]
    }
   ],
   "source": [
    "# convert PDF into CSV\n",
    "tabula.convert_into(\"../data/Statement_All_Transactions_20220101_20220701.pdf\", \"../data/mpesaData.csv\", output_format=\"csv\", pages='all')"
   ]
  },
  {
   "cell_type": "code",
   "execution_count": 4,
   "metadata": {},
   "outputs": [],
   "source": [
    "summary= pd.read_csv('../data/mpesaData.csv', index_col = False,  nrows=11)\n",
    "summary.drop('Unnamed: 3', axis=1, inplace=True)"
   ]
  },
  {
   "cell_type": "code",
   "execution_count": 5,
   "metadata": {},
   "outputs": [
    {
     "data": {
      "text/html": [
       "<div>\n",
       "<style scoped>\n",
       "    .dataframe tbody tr th:only-of-type {\n",
       "        vertical-align: middle;\n",
       "    }\n",
       "\n",
       "    .dataframe tbody tr th {\n",
       "        vertical-align: top;\n",
       "    }\n",
       "\n",
       "    .dataframe thead th {\n",
       "        text-align: right;\n",
       "    }\n",
       "</style>\n",
       "<table border=\"1\" class=\"dataframe\">\n",
       "  <thead>\n",
       "    <tr style=\"text-align: right;\">\n",
       "      <th></th>\n",
       "      <th>TRANSACTION TYPE</th>\n",
       "      <th>PAID IN</th>\n",
       "      <th>PAID OUT</th>\n",
       "    </tr>\n",
       "  </thead>\n",
       "  <tbody>\n",
       "    <tr>\n",
       "      <th>0</th>\n",
       "      <td>Cash Out</td>\n",
       "      <td>0.00</td>\n",
       "      <td>7,390.00</td>\n",
       "    </tr>\n",
       "    <tr>\n",
       "      <th>1</th>\n",
       "      <td>Send Money</td>\n",
       "      <td>52,508.00</td>\n",
       "      <td>64,162.00</td>\n",
       "    </tr>\n",
       "    <tr>\n",
       "      <th>2</th>\n",
       "      <td>Transaction Reversal</td>\n",
       "      <td>50.00</td>\n",
       "      <td>0.00</td>\n",
       "    </tr>\n",
       "    <tr>\n",
       "      <th>3</th>\n",
       "      <td>B2C Payment</td>\n",
       "      <td>46,040.00</td>\n",
       "      <td>0.00</td>\n",
       "    </tr>\n",
       "    <tr>\n",
       "      <th>4</th>\n",
       "      <td>Pay Bill</td>\n",
       "      <td>0.00</td>\n",
       "      <td>39,039.00</td>\n",
       "    </tr>\n",
       "    <tr>\n",
       "      <th>5</th>\n",
       "      <td>Cash In</td>\n",
       "      <td>51,000.00</td>\n",
       "      <td>0.00</td>\n",
       "    </tr>\n",
       "    <tr>\n",
       "      <th>6</th>\n",
       "      <td>FSI Withdraw</td>\n",
       "      <td>17,000.00</td>\n",
       "      <td>0.00</td>\n",
       "    </tr>\n",
       "    <tr>\n",
       "      <th>7</th>\n",
       "      <td>FSI Deposit</td>\n",
       "      <td>0.00</td>\n",
       "      <td>12,959.00</td>\n",
       "    </tr>\n",
       "    <tr>\n",
       "      <th>8</th>\n",
       "      <td>Customer Merchant Payment</td>\n",
       "      <td>0.00</td>\n",
       "      <td>39,717.50</td>\n",
       "    </tr>\n",
       "    <tr>\n",
       "      <th>9</th>\n",
       "      <td>Customer Airtime Purchase</td>\n",
       "      <td>0.00</td>\n",
       "      <td>3,630.00</td>\n",
       "    </tr>\n",
       "    <tr>\n",
       "      <th>10</th>\n",
       "      <td>TOTAL:</td>\n",
       "      <td>166,598.00</td>\n",
       "      <td>166,897.50</td>\n",
       "    </tr>\n",
       "  </tbody>\n",
       "</table>\n",
       "</div>"
      ],
      "text/plain": [
       "             TRANSACTION TYPE     PAID IN    PAID OUT\n",
       "0                    Cash Out        0.00    7,390.00\n",
       "1                  Send Money   52,508.00   64,162.00\n",
       "2        Transaction Reversal       50.00        0.00\n",
       "3                 B2C Payment   46,040.00        0.00\n",
       "4                    Pay Bill        0.00   39,039.00\n",
       "5                     Cash In   51,000.00        0.00\n",
       "6                FSI Withdraw   17,000.00        0.00\n",
       "7                 FSI Deposit        0.00   12,959.00\n",
       "8   Customer Merchant Payment        0.00   39,717.50\n",
       "9   Customer Airtime Purchase        0.00    3,630.00\n",
       "10                     TOTAL:  166,598.00  166,897.50"
      ]
     },
     "execution_count": 5,
     "metadata": {},
     "output_type": "execute_result"
    }
   ],
   "source": [
    "summary"
   ]
  },
  {
   "cell_type": "code",
   "execution_count": 6,
   "metadata": {},
   "outputs": [],
   "source": [
    "summary.to_csv('../data/financialSummary.csv', index=False)"
   ]
  },
  {
   "cell_type": "code",
   "execution_count": 7,
   "metadata": {},
   "outputs": [],
   "source": [
    "Mpesa_data = pd.read_csv('../data/mpesaData.csv', index_col = False, skiprows=12)\n",
    "Mpesa_data.drop('Unnamed: 7', axis=1, inplace=True)"
   ]
  },
  {
   "cell_type": "code",
   "execution_count": 8,
   "metadata": {},
   "outputs": [
    {
     "data": {
      "text/html": [
       "<div>\n",
       "<style scoped>\n",
       "    .dataframe tbody tr th:only-of-type {\n",
       "        vertical-align: middle;\n",
       "    }\n",
       "\n",
       "    .dataframe tbody tr th {\n",
       "        vertical-align: top;\n",
       "    }\n",
       "\n",
       "    .dataframe thead th {\n",
       "        text-align: right;\n",
       "    }\n",
       "</style>\n",
       "<table border=\"1\" class=\"dataframe\">\n",
       "  <thead>\n",
       "    <tr style=\"text-align: right;\">\n",
       "      <th></th>\n",
       "      <th>Receipt No</th>\n",
       "      <th>Completion Time</th>\n",
       "      <th>Details</th>\n",
       "      <th>Transaction Status</th>\n",
       "      <th>Paid in</th>\n",
       "      <th>Withdraw\\rn</th>\n",
       "      <th>Balance</th>\n",
       "    </tr>\n",
       "  </thead>\n",
       "  <tbody>\n",
       "    <tr>\n",
       "      <th>0</th>\n",
       "      <td>QG19OUVM6L</td>\n",
       "      <td>2022-07-01 18:25:24</td>\n",
       "      <td>Customer Transfer to 254798***904 -\\rCaroline ...</td>\n",
       "      <td>COMPLETED</td>\n",
       "      <td>0.00</td>\n",
       "      <td>50.00</td>\n",
       "      <td>775.50</td>\n",
       "    </tr>\n",
       "    <tr>\n",
       "      <th>1</th>\n",
       "      <td>QG11OHV8NN</td>\n",
       "      <td>2022-07-01 16:04:31</td>\n",
       "      <td>Pay Bill Charge</td>\n",
       "      <td>COMPLETED</td>\n",
       "      <td>0.00</td>\n",
       "      <td>23.00</td>\n",
       "      <td>825.50</td>\n",
       "    </tr>\n",
       "    <tr>\n",
       "      <th>2</th>\n",
       "      <td>QG11OHV8NN</td>\n",
       "      <td>2022-07-01 16:04:31</td>\n",
       "      <td>Pay Bill to 200222 - NHIF Acc. 34664143</td>\n",
       "      <td>COMPLETED</td>\n",
       "      <td>0.00</td>\n",
       "      <td>500.00</td>\n",
       "      <td>848.50</td>\n",
       "    </tr>\n",
       "    <tr>\n",
       "      <th>3</th>\n",
       "      <td>QG10OHP9A0</td>\n",
       "      <td>2022-07-01 16:02:25</td>\n",
       "      <td>M-Shwari Withdraw</td>\n",
       "      <td>COMPLETED</td>\n",
       "      <td>1,000.00</td>\n",
       "      <td>0.00</td>\n",
       "      <td>1,348.50</td>\n",
       "    </tr>\n",
       "    <tr>\n",
       "      <th>4</th>\n",
       "      <td>QG16OF8PA4</td>\n",
       "      <td>2022-07-01 15:31:39</td>\n",
       "      <td>Merchant Payment to 779959 - NAIVAS\\rDEVELOPME...</td>\n",
       "      <td>COMPLETED</td>\n",
       "      <td>0.00</td>\n",
       "      <td>120.00</td>\n",
       "      <td>348.50</td>\n",
       "    </tr>\n",
       "  </tbody>\n",
       "</table>\n",
       "</div>"
      ],
      "text/plain": [
       "   Receipt No      Completion Time  \\\n",
       "0  QG19OUVM6L  2022-07-01 18:25:24   \n",
       "1  QG11OHV8NN  2022-07-01 16:04:31   \n",
       "2  QG11OHV8NN  2022-07-01 16:04:31   \n",
       "3  QG10OHP9A0  2022-07-01 16:02:25   \n",
       "4  QG16OF8PA4  2022-07-01 15:31:39   \n",
       "\n",
       "                                             Details Transaction Status  \\\n",
       "0  Customer Transfer to 254798***904 -\\rCaroline ...          COMPLETED   \n",
       "1                                    Pay Bill Charge          COMPLETED   \n",
       "2            Pay Bill to 200222 - NHIF Acc. 34664143          COMPLETED   \n",
       "3                                  M-Shwari Withdraw          COMPLETED   \n",
       "4  Merchant Payment to 779959 - NAIVAS\\rDEVELOPME...          COMPLETED   \n",
       "\n",
       "    Paid in Withdraw\\rn   Balance  \n",
       "0      0.00       50.00    775.50  \n",
       "1      0.00       23.00    825.50  \n",
       "2      0.00      500.00    848.50  \n",
       "3  1,000.00        0.00  1,348.50  \n",
       "4      0.00      120.00    348.50  "
      ]
     },
     "execution_count": 8,
     "metadata": {},
     "output_type": "execute_result"
    }
   ],
   "source": [
    "Mpesa_data.head()"
   ]
  },
  {
   "cell_type": "code",
   "execution_count": 9,
   "metadata": {},
   "outputs": [
    {
     "data": {
      "text/plain": [
       "COMPLETED             660\n",
       "Transaction Status     19\n",
       "Name: Transaction Status, dtype: int64"
      ]
     },
     "execution_count": 9,
     "metadata": {},
     "output_type": "execute_result"
    }
   ],
   "source": [
    "Mpesa_data['Transaction Status'].value_counts()"
   ]
  },
  {
   "cell_type": "markdown",
   "metadata": {},
   "source": [
    "1. Data Cleaning"
   ]
  },
  {
   "cell_type": "markdown",
   "metadata": {},
   "source": [
    "Drop the Transaction status since all transactions were completed"
   ]
  },
  {
   "cell_type": "code",
   "execution_count": 10,
   "metadata": {},
   "outputs": [],
   "source": [
    "Mpesa_data = pd.read_csv('../data/mpesaData.csv', index_col = False, skiprows=12)\n",
    "Mpesa_data.drop('Unnamed: 7', axis=1, inplace=True)"
   ]
  },
  {
   "cell_type": "code",
   "execution_count": 11,
   "metadata": {},
   "outputs": [],
   "source": [
    "Clean_data= cleaner.removerowsByValue(Mpesa_data, column='Transaction Status', val='Transaction Status')"
   ]
  },
  {
   "cell_type": "code",
   "execution_count": 12,
   "metadata": {},
   "outputs": [
    {
     "data": {
      "text/html": [
       "<div>\n",
       "<style scoped>\n",
       "    .dataframe tbody tr th:only-of-type {\n",
       "        vertical-align: middle;\n",
       "    }\n",
       "\n",
       "    .dataframe tbody tr th {\n",
       "        vertical-align: top;\n",
       "    }\n",
       "\n",
       "    .dataframe thead th {\n",
       "        text-align: right;\n",
       "    }\n",
       "</style>\n",
       "<table border=\"1\" class=\"dataframe\">\n",
       "  <thead>\n",
       "    <tr style=\"text-align: right;\">\n",
       "      <th></th>\n",
       "      <th>Receipt No</th>\n",
       "      <th>Completion Time</th>\n",
       "      <th>Details</th>\n",
       "      <th>Transaction Status</th>\n",
       "      <th>Paid in</th>\n",
       "      <th>Withdraw\\rn</th>\n",
       "      <th>Balance</th>\n",
       "    </tr>\n",
       "  </thead>\n",
       "  <tbody>\n",
       "    <tr>\n",
       "      <th>673</th>\n",
       "      <td>QA516U45RJ</td>\n",
       "      <td>2022-01-05 18:58:30</td>\n",
       "      <td>Deposit of Funds at Agent Till 574553 -\\rAMSEK...</td>\n",
       "      <td>COMPLETED</td>\n",
       "      <td>15,000.00</td>\n",
       "      <td>0.00</td>\n",
       "      <td>15,005.00</td>\n",
       "    </tr>\n",
       "    <tr>\n",
       "      <th>675</th>\n",
       "      <td>QA516GVQ0H</td>\n",
       "      <td>2022-01-05 15:55:39</td>\n",
       "      <td>Buy Bundles</td>\n",
       "      <td>COMPLETED</td>\n",
       "      <td>0.00</td>\n",
       "      <td>20.00</td>\n",
       "      <td>5.00</td>\n",
       "    </tr>\n",
       "    <tr>\n",
       "      <th>676</th>\n",
       "      <td>QA5369RQA5</td>\n",
       "      <td>2022-01-05 13:56:44</td>\n",
       "      <td>Buy Bundles</td>\n",
       "      <td>COMPLETED</td>\n",
       "      <td>0.00</td>\n",
       "      <td>50.00</td>\n",
       "      <td>25.00</td>\n",
       "    </tr>\n",
       "    <tr>\n",
       "      <th>677</th>\n",
       "      <td>QA4552ABBB</td>\n",
       "      <td>2022-01-04 18:25:46</td>\n",
       "      <td>Merchant Payment to 7899629 -\\rDORCAS     CHEP...</td>\n",
       "      <td>COMPLETED</td>\n",
       "      <td>0.00</td>\n",
       "      <td>300.00</td>\n",
       "      <td>75.00</td>\n",
       "    </tr>\n",
       "    <tr>\n",
       "      <th>678</th>\n",
       "      <td>QA4552782V</td>\n",
       "      <td>2022-01-04 18:24:54</td>\n",
       "      <td>M-Shwari Withdraw</td>\n",
       "      <td>COMPLETED</td>\n",
       "      <td>200.00</td>\n",
       "      <td>0.00</td>\n",
       "      <td>375.00</td>\n",
       "    </tr>\n",
       "  </tbody>\n",
       "</table>\n",
       "</div>"
      ],
      "text/plain": [
       "     Receipt No      Completion Time  \\\n",
       "673  QA516U45RJ  2022-01-05 18:58:30   \n",
       "675  QA516GVQ0H  2022-01-05 15:55:39   \n",
       "676  QA5369RQA5  2022-01-05 13:56:44   \n",
       "677  QA4552ABBB  2022-01-04 18:25:46   \n",
       "678  QA4552782V  2022-01-04 18:24:54   \n",
       "\n",
       "                                               Details Transaction Status  \\\n",
       "673  Deposit of Funds at Agent Till 574553 -\\rAMSEK...          COMPLETED   \n",
       "675                                        Buy Bundles          COMPLETED   \n",
       "676                                        Buy Bundles          COMPLETED   \n",
       "677  Merchant Payment to 7899629 -\\rDORCAS     CHEP...          COMPLETED   \n",
       "678                                  M-Shwari Withdraw          COMPLETED   \n",
       "\n",
       "       Paid in Withdraw\\rn    Balance  \n",
       "673  15,000.00        0.00  15,005.00  \n",
       "675       0.00       20.00       5.00  \n",
       "676       0.00       50.00      25.00  \n",
       "677       0.00      300.00      75.00  \n",
       "678     200.00        0.00     375.00  "
      ]
     },
     "execution_count": 12,
     "metadata": {},
     "output_type": "execute_result"
    }
   ],
   "source": [
    "Clean_data.tail()"
   ]
  },
  {
   "cell_type": "code",
   "execution_count": 19,
   "metadata": {},
   "outputs": [
    {
     "data": {
      "text/plain": [
       "<bound method Series.unique of 0      Customer Transfer to 254798***904 -\\rCaroline ...\n",
       "1                                        Pay Bill Charge\n",
       "2                Pay Bill to 200222 - NHIF Acc. 34664143\n",
       "3                                      M-Shwari Withdraw\n",
       "4      Merchant Payment to 779959 - NAIVAS\\rDEVELOPME...\n",
       "                             ...                        \n",
       "673    Deposit of Funds at Agent Till 574553 -\\rAMSEK...\n",
       "675                                          Buy Bundles\n",
       "676                                          Buy Bundles\n",
       "677    Merchant Payment to 7899629 -\\rDORCAS     CHEP...\n",
       "678                                    M-Shwari Withdraw\n",
       "Name: Details, Length: 660, dtype: object>"
      ]
     },
     "execution_count": 19,
     "metadata": {},
     "output_type": "execute_result"
    }
   ],
   "source": [
    "Clean_data['Details'].unique"
   ]
  },
  {
   "cell_type": "code",
   "execution_count": 13,
   "metadata": {},
   "outputs": [],
   "source": [
    "details=Clean_data['Details']"
   ]
  },
  {
   "cell_type": "code",
   "execution_count": 14,
   "metadata": {},
   "outputs": [],
   "source": [
    "from unicodedata import category\n",
    "\n",
    "\n",
    "def read_details(details):\n",
    "    detsA=[]\n",
    "    \n",
    "    for row in details:\n",
    "        if 'Pay Bill Online ' in row:\n",
    "            category= 'Pay Bill Online'\n",
    "        elif 'Customer Transfer' in row:\n",
    "            category = 'Customer Transfer'\n",
    "        elif 'Merchant Payment 'in row :\n",
    "            category= 'Merchant Payment'\n",
    "        elif 'Business Payment' in row:\n",
    "            category = 'Business Payment' \n",
    "        elif 'Funds received' in row:\n",
    "            category = 'Funds received'\n",
    "        elif 'Customer Withdrawal' in row:\n",
    "            category = 'Customer Withdrawal'\n",
    "        elif 'Deposit of Funds' in row:\n",
    "            category = 'Deposit of Funds'\n",
    "        elif 'Buy Bundles' in row:\n",
    "            category='Buy Bundles'\n",
    "        elif 'M-Shwari Withdraw' in row:\n",
    "            category= 'M-Shwari Withdraw'\n",
    "        elif 'M-Shwari Deposit' in row:\n",
    "            category= 'M-Shwari Deposit'\n",
    "        elif 'Pay Bill Charge' in row:\n",
    "            category= 'Pay Bill Charge'\n",
    "        elif 'Airtime Purchase' in row:\n",
    "            category= 'Airtime Purchase'\n",
    "        elif 'Pay Bill to' in row:\n",
    "            category= 'Pay Bill to'\n",
    "        elif 'Pay Utility Reversal' in row:\n",
    "            category = 'Pay Utility Reversal'\n",
    "        elif 'Customer Payment to Small Business' in row:\n",
    "            category= 'Payment to SME'\n",
    "        else:\n",
    "            category= row\n",
    "        detsA.append(category)\n",
    "    return detsA"
   ]
  },
  {
   "cell_type": "code",
   "execution_count": 15,
   "metadata": {},
   "outputs": [],
   "source": [
    "dets= read_details(details)"
   ]
  },
  {
   "cell_type": "code",
   "execution_count": 16,
   "metadata": {},
   "outputs": [],
   "source": [
    "Clean_data['Transaction Type']=dets"
   ]
  },
  {
   "cell_type": "code",
   "execution_count": 17,
   "metadata": {},
   "outputs": [
    {
     "data": {
      "text/html": [
       "<div>\n",
       "<style scoped>\n",
       "    .dataframe tbody tr th:only-of-type {\n",
       "        vertical-align: middle;\n",
       "    }\n",
       "\n",
       "    .dataframe tbody tr th {\n",
       "        vertical-align: top;\n",
       "    }\n",
       "\n",
       "    .dataframe thead th {\n",
       "        text-align: right;\n",
       "    }\n",
       "</style>\n",
       "<table border=\"1\" class=\"dataframe\">\n",
       "  <thead>\n",
       "    <tr style=\"text-align: right;\">\n",
       "      <th></th>\n",
       "      <th>Receipt No</th>\n",
       "      <th>Completion Time</th>\n",
       "      <th>Details</th>\n",
       "      <th>Transaction Status</th>\n",
       "      <th>Paid in</th>\n",
       "      <th>Withdraw\\rn</th>\n",
       "      <th>Balance</th>\n",
       "      <th>Transaction Type</th>\n",
       "    </tr>\n",
       "  </thead>\n",
       "  <tbody>\n",
       "    <tr>\n",
       "      <th>0</th>\n",
       "      <td>QG19OUVM6L</td>\n",
       "      <td>2022-07-01 18:25:24</td>\n",
       "      <td>Customer Transfer to 254798***904 -\\rCaroline ...</td>\n",
       "      <td>COMPLETED</td>\n",
       "      <td>0.00</td>\n",
       "      <td>50.00</td>\n",
       "      <td>775.50</td>\n",
       "      <td>Customer Transfer</td>\n",
       "    </tr>\n",
       "    <tr>\n",
       "      <th>1</th>\n",
       "      <td>QG11OHV8NN</td>\n",
       "      <td>2022-07-01 16:04:31</td>\n",
       "      <td>Pay Bill Charge</td>\n",
       "      <td>COMPLETED</td>\n",
       "      <td>0.00</td>\n",
       "      <td>23.00</td>\n",
       "      <td>825.50</td>\n",
       "      <td>Pay Bill Charge</td>\n",
       "    </tr>\n",
       "    <tr>\n",
       "      <th>2</th>\n",
       "      <td>QG11OHV8NN</td>\n",
       "      <td>2022-07-01 16:04:31</td>\n",
       "      <td>Pay Bill to 200222 - NHIF Acc. 34664143</td>\n",
       "      <td>COMPLETED</td>\n",
       "      <td>0.00</td>\n",
       "      <td>500.00</td>\n",
       "      <td>848.50</td>\n",
       "      <td>Pay Bill to</td>\n",
       "    </tr>\n",
       "    <tr>\n",
       "      <th>3</th>\n",
       "      <td>QG10OHP9A0</td>\n",
       "      <td>2022-07-01 16:02:25</td>\n",
       "      <td>M-Shwari Withdraw</td>\n",
       "      <td>COMPLETED</td>\n",
       "      <td>1,000.00</td>\n",
       "      <td>0.00</td>\n",
       "      <td>1,348.50</td>\n",
       "      <td>M-Shwari Withdraw</td>\n",
       "    </tr>\n",
       "    <tr>\n",
       "      <th>4</th>\n",
       "      <td>QG16OF8PA4</td>\n",
       "      <td>2022-07-01 15:31:39</td>\n",
       "      <td>Merchant Payment to 779959 - NAIVAS\\rDEVELOPME...</td>\n",
       "      <td>COMPLETED</td>\n",
       "      <td>0.00</td>\n",
       "      <td>120.00</td>\n",
       "      <td>348.50</td>\n",
       "      <td>Merchant Payment</td>\n",
       "    </tr>\n",
       "    <tr>\n",
       "      <th>5</th>\n",
       "      <td>QG13OAOXTX</td>\n",
       "      <td>2022-07-01 14:33:28</td>\n",
       "      <td>Customer Transfer to 254720***288 -\\rMUSILI MUTUA</td>\n",
       "      <td>COMPLETED</td>\n",
       "      <td>0.00</td>\n",
       "      <td>50.00</td>\n",
       "      <td>468.50</td>\n",
       "      <td>Customer Transfer</td>\n",
       "    </tr>\n",
       "    <tr>\n",
       "      <th>6</th>\n",
       "      <td>QG16OAIJEQ</td>\n",
       "      <td>2022-07-01 14:31:18</td>\n",
       "      <td>M-Shwari Withdraw</td>\n",
       "      <td>COMPLETED</td>\n",
       "      <td>500.00</td>\n",
       "      <td>0.00</td>\n",
       "      <td>518.50</td>\n",
       "      <td>M-Shwari Withdraw</td>\n",
       "    </tr>\n",
       "    <tr>\n",
       "      <th>7</th>\n",
       "      <td>QG14NTN1JE</td>\n",
       "      <td>2022-07-01 10:49:40</td>\n",
       "      <td>Airtime Purchase</td>\n",
       "      <td>COMPLETED</td>\n",
       "      <td>0.00</td>\n",
       "      <td>100.00</td>\n",
       "      <td>18.50</td>\n",
       "      <td>Airtime Purchase</td>\n",
       "    </tr>\n",
       "    <tr>\n",
       "      <th>8</th>\n",
       "      <td>QG13NTLYMJ</td>\n",
       "      <td>2022-07-01 10:49:25</td>\n",
       "      <td>M-Shwari Withdraw</td>\n",
       "      <td>COMPLETED</td>\n",
       "      <td>100.00</td>\n",
       "      <td>0.00</td>\n",
       "      <td>118.50</td>\n",
       "      <td>M-Shwari Withdraw</td>\n",
       "    </tr>\n",
       "    <tr>\n",
       "      <th>9</th>\n",
       "      <td>QG17NHYJOZ</td>\n",
       "      <td>2022-07-01 07:53:43</td>\n",
       "      <td>Customer Transfer to 254718***386 -\\rELIJAH MB...</td>\n",
       "      <td>COMPLETED</td>\n",
       "      <td>0.00</td>\n",
       "      <td>50.00</td>\n",
       "      <td>18.50</td>\n",
       "      <td>Customer Transfer</td>\n",
       "    </tr>\n",
       "  </tbody>\n",
       "</table>\n",
       "</div>"
      ],
      "text/plain": [
       "   Receipt No      Completion Time  \\\n",
       "0  QG19OUVM6L  2022-07-01 18:25:24   \n",
       "1  QG11OHV8NN  2022-07-01 16:04:31   \n",
       "2  QG11OHV8NN  2022-07-01 16:04:31   \n",
       "3  QG10OHP9A0  2022-07-01 16:02:25   \n",
       "4  QG16OF8PA4  2022-07-01 15:31:39   \n",
       "5  QG13OAOXTX  2022-07-01 14:33:28   \n",
       "6  QG16OAIJEQ  2022-07-01 14:31:18   \n",
       "7  QG14NTN1JE  2022-07-01 10:49:40   \n",
       "8  QG13NTLYMJ  2022-07-01 10:49:25   \n",
       "9  QG17NHYJOZ  2022-07-01 07:53:43   \n",
       "\n",
       "                                             Details Transaction Status  \\\n",
       "0  Customer Transfer to 254798***904 -\\rCaroline ...          COMPLETED   \n",
       "1                                    Pay Bill Charge          COMPLETED   \n",
       "2            Pay Bill to 200222 - NHIF Acc. 34664143          COMPLETED   \n",
       "3                                  M-Shwari Withdraw          COMPLETED   \n",
       "4  Merchant Payment to 779959 - NAIVAS\\rDEVELOPME...          COMPLETED   \n",
       "5  Customer Transfer to 254720***288 -\\rMUSILI MUTUA          COMPLETED   \n",
       "6                                  M-Shwari Withdraw          COMPLETED   \n",
       "7                                   Airtime Purchase          COMPLETED   \n",
       "8                                  M-Shwari Withdraw          COMPLETED   \n",
       "9  Customer Transfer to 254718***386 -\\rELIJAH MB...          COMPLETED   \n",
       "\n",
       "    Paid in Withdraw\\rn   Balance   Transaction Type  \n",
       "0      0.00       50.00    775.50  Customer Transfer  \n",
       "1      0.00       23.00    825.50    Pay Bill Charge  \n",
       "2      0.00      500.00    848.50        Pay Bill to  \n",
       "3  1,000.00        0.00  1,348.50  M-Shwari Withdraw  \n",
       "4      0.00      120.00    348.50   Merchant Payment  \n",
       "5      0.00       50.00    468.50  Customer Transfer  \n",
       "6    500.00        0.00    518.50  M-Shwari Withdraw  \n",
       "7      0.00      100.00     18.50   Airtime Purchase  \n",
       "8    100.00        0.00    118.50  M-Shwari Withdraw  \n",
       "9      0.00       50.00     18.50  Customer Transfer  "
      ]
     },
     "execution_count": 17,
     "metadata": {},
     "output_type": "execute_result"
    }
   ],
   "source": [
    "Clean_data.head(10)"
   ]
  },
  {
   "cell_type": "code",
   "execution_count": 18,
   "metadata": {},
   "outputs": [],
   "source": [
    "Data= cleaner.drop_columns(Clean_data,['Transaction Status','Details'])"
   ]
  },
  {
   "cell_type": "code",
   "execution_count": 19,
   "metadata": {},
   "outputs": [
    {
     "data": {
      "text/html": [
       "<div>\n",
       "<style scoped>\n",
       "    .dataframe tbody tr th:only-of-type {\n",
       "        vertical-align: middle;\n",
       "    }\n",
       "\n",
       "    .dataframe tbody tr th {\n",
       "        vertical-align: top;\n",
       "    }\n",
       "\n",
       "    .dataframe thead th {\n",
       "        text-align: right;\n",
       "    }\n",
       "</style>\n",
       "<table border=\"1\" class=\"dataframe\">\n",
       "  <thead>\n",
       "    <tr style=\"text-align: right;\">\n",
       "      <th></th>\n",
       "      <th>Receipt No</th>\n",
       "      <th>Completion Time</th>\n",
       "      <th>Paid in</th>\n",
       "      <th>Withdraw\\rn</th>\n",
       "      <th>Balance</th>\n",
       "      <th>Transaction Type</th>\n",
       "    </tr>\n",
       "  </thead>\n",
       "  <tbody>\n",
       "    <tr>\n",
       "      <th>0</th>\n",
       "      <td>QG19OUVM6L</td>\n",
       "      <td>2022-07-01 18:25:24</td>\n",
       "      <td>0.00</td>\n",
       "      <td>50.00</td>\n",
       "      <td>775.50</td>\n",
       "      <td>Customer Transfer</td>\n",
       "    </tr>\n",
       "    <tr>\n",
       "      <th>1</th>\n",
       "      <td>QG11OHV8NN</td>\n",
       "      <td>2022-07-01 16:04:31</td>\n",
       "      <td>0.00</td>\n",
       "      <td>23.00</td>\n",
       "      <td>825.50</td>\n",
       "      <td>Pay Bill Charge</td>\n",
       "    </tr>\n",
       "    <tr>\n",
       "      <th>2</th>\n",
       "      <td>QG11OHV8NN</td>\n",
       "      <td>2022-07-01 16:04:31</td>\n",
       "      <td>0.00</td>\n",
       "      <td>500.00</td>\n",
       "      <td>848.50</td>\n",
       "      <td>Pay Bill to</td>\n",
       "    </tr>\n",
       "    <tr>\n",
       "      <th>3</th>\n",
       "      <td>QG10OHP9A0</td>\n",
       "      <td>2022-07-01 16:02:25</td>\n",
       "      <td>1,000.00</td>\n",
       "      <td>0.00</td>\n",
       "      <td>1,348.50</td>\n",
       "      <td>M-Shwari Withdraw</td>\n",
       "    </tr>\n",
       "    <tr>\n",
       "      <th>4</th>\n",
       "      <td>QG16OF8PA4</td>\n",
       "      <td>2022-07-01 15:31:39</td>\n",
       "      <td>0.00</td>\n",
       "      <td>120.00</td>\n",
       "      <td>348.50</td>\n",
       "      <td>Merchant Payment</td>\n",
       "    </tr>\n",
       "  </tbody>\n",
       "</table>\n",
       "</div>"
      ],
      "text/plain": [
       "   Receipt No      Completion Time   Paid in Withdraw\\rn   Balance  \\\n",
       "0  QG19OUVM6L  2022-07-01 18:25:24      0.00       50.00    775.50   \n",
       "1  QG11OHV8NN  2022-07-01 16:04:31      0.00       23.00    825.50   \n",
       "2  QG11OHV8NN  2022-07-01 16:04:31      0.00      500.00    848.50   \n",
       "3  QG10OHP9A0  2022-07-01 16:02:25  1,000.00        0.00  1,348.50   \n",
       "4  QG16OF8PA4  2022-07-01 15:31:39      0.00      120.00    348.50   \n",
       "\n",
       "    Transaction Type  \n",
       "0  Customer Transfer  \n",
       "1    Pay Bill Charge  \n",
       "2        Pay Bill to  \n",
       "3  M-Shwari Withdraw  \n",
       "4   Merchant Payment  "
      ]
     },
     "execution_count": 19,
     "metadata": {},
     "output_type": "execute_result"
    }
   ],
   "source": [
    "Data.head()"
   ]
  },
  {
   "cell_type": "code",
   "execution_count": 20,
   "metadata": {},
   "outputs": [
    {
     "data": {
      "text/plain": [
       "Receipt No          object\n",
       "Completion Time     object\n",
       "Paid in             object\n",
       "Withdraw\\rn         object\n",
       "Balance             object\n",
       "Transaction Type    object\n",
       "dtype: object"
      ]
     },
     "execution_count": 20,
     "metadata": {},
     "output_type": "execute_result"
    }
   ],
   "source": [
    "Data.dtypes"
   ]
  },
  {
   "cell_type": "markdown",
   "metadata": {},
   "source": [
    "Convert columns to the correct data types"
   ]
  },
  {
   "cell_type": "code",
   "execution_count": 21,
   "metadata": {},
   "outputs": [],
   "source": [
    "Data['Paid in']= Data['Paid in'].str.replace(',', '').astype(float)"
   ]
  },
  {
   "cell_type": "code",
   "execution_count": 22,
   "metadata": {},
   "outputs": [],
   "source": [
    "Data['Withdraw\\rn']= Data['Withdraw\\rn'].str.replace(',', '').astype(float)"
   ]
  },
  {
   "cell_type": "code",
   "execution_count": 23,
   "metadata": {},
   "outputs": [],
   "source": [
    "Data['Balance']= Data['Balance'].str.replace(',', '').astype(float)"
   ]
  },
  {
   "cell_type": "code",
   "execution_count": 24,
   "metadata": {},
   "outputs": [],
   "source": [
    "Data['Completion Time']=pd.to_datetime(Data['Completion Time'])"
   ]
  },
  {
   "cell_type": "code",
   "execution_count": 27,
   "metadata": {},
   "outputs": [
    {
     "data": {
      "text/plain": [
       "Receipt No                  object\n",
       "Completion Time     datetime64[ns]\n",
       "Paid in                    float64\n",
       "Withdraw\\rn                float64\n",
       "Balance                    float64\n",
       "Transaction Type            object\n",
       "dtype: object"
      ]
     },
     "execution_count": 27,
     "metadata": {},
     "output_type": "execute_result"
    }
   ],
   "source": [
    "Data.dtypes"
   ]
  },
  {
   "cell_type": "code",
   "execution_count": 68,
   "metadata": {},
   "outputs": [
    {
     "data": {
      "text/plain": [
       "Index(['Receipt No', 'Completion Time', 'Paid in', 'Withdraw\\rn', 'Balance',\n",
       "       'Transaction Type'],\n",
       "      dtype='object')"
      ]
     },
     "execution_count": 68,
     "metadata": {},
     "output_type": "execute_result"
    }
   ],
   "source": [
    "Data.columns"
   ]
  },
  {
   "cell_type": "code",
   "execution_count": 28,
   "metadata": {},
   "outputs": [],
   "source": [
    "Data['Withdrawn']= Data ['Withdraw\\rn']"
   ]
  },
  {
   "cell_type": "code",
   "execution_count": 29,
   "metadata": {},
   "outputs": [],
   "source": [
    "Data.drop(columns='Withdraw\\rn', inplace=True)"
   ]
  },
  {
   "cell_type": "code",
   "execution_count": 30,
   "metadata": {},
   "outputs": [
    {
     "data": {
      "text/html": [
       "<div>\n",
       "<style scoped>\n",
       "    .dataframe tbody tr th:only-of-type {\n",
       "        vertical-align: middle;\n",
       "    }\n",
       "\n",
       "    .dataframe tbody tr th {\n",
       "        vertical-align: top;\n",
       "    }\n",
       "\n",
       "    .dataframe thead th {\n",
       "        text-align: right;\n",
       "    }\n",
       "</style>\n",
       "<table border=\"1\" class=\"dataframe\">\n",
       "  <thead>\n",
       "    <tr style=\"text-align: right;\">\n",
       "      <th></th>\n",
       "      <th>Receipt No</th>\n",
       "      <th>Completion Time</th>\n",
       "      <th>Paid in</th>\n",
       "      <th>Balance</th>\n",
       "      <th>Transaction Type</th>\n",
       "      <th>Withdrawn</th>\n",
       "    </tr>\n",
       "  </thead>\n",
       "  <tbody>\n",
       "    <tr>\n",
       "      <th>0</th>\n",
       "      <td>QG19OUVM6L</td>\n",
       "      <td>2022-07-01 18:25:24</td>\n",
       "      <td>0.0</td>\n",
       "      <td>775.5</td>\n",
       "      <td>Customer Transfer</td>\n",
       "      <td>50.0</td>\n",
       "    </tr>\n",
       "    <tr>\n",
       "      <th>1</th>\n",
       "      <td>QG11OHV8NN</td>\n",
       "      <td>2022-07-01 16:04:31</td>\n",
       "      <td>0.0</td>\n",
       "      <td>825.5</td>\n",
       "      <td>Pay Bill Charge</td>\n",
       "      <td>23.0</td>\n",
       "    </tr>\n",
       "    <tr>\n",
       "      <th>2</th>\n",
       "      <td>QG11OHV8NN</td>\n",
       "      <td>2022-07-01 16:04:31</td>\n",
       "      <td>0.0</td>\n",
       "      <td>848.5</td>\n",
       "      <td>Pay Bill to</td>\n",
       "      <td>500.0</td>\n",
       "    </tr>\n",
       "    <tr>\n",
       "      <th>3</th>\n",
       "      <td>QG10OHP9A0</td>\n",
       "      <td>2022-07-01 16:02:25</td>\n",
       "      <td>1000.0</td>\n",
       "      <td>1348.5</td>\n",
       "      <td>M-Shwari Withdraw</td>\n",
       "      <td>0.0</td>\n",
       "    </tr>\n",
       "    <tr>\n",
       "      <th>4</th>\n",
       "      <td>QG16OF8PA4</td>\n",
       "      <td>2022-07-01 15:31:39</td>\n",
       "      <td>0.0</td>\n",
       "      <td>348.5</td>\n",
       "      <td>Merchant Payment</td>\n",
       "      <td>120.0</td>\n",
       "    </tr>\n",
       "  </tbody>\n",
       "</table>\n",
       "</div>"
      ],
      "text/plain": [
       "   Receipt No     Completion Time  Paid in  Balance   Transaction Type  \\\n",
       "0  QG19OUVM6L 2022-07-01 18:25:24      0.0    775.5  Customer Transfer   \n",
       "1  QG11OHV8NN 2022-07-01 16:04:31      0.0    825.5    Pay Bill Charge   \n",
       "2  QG11OHV8NN 2022-07-01 16:04:31      0.0    848.5        Pay Bill to   \n",
       "3  QG10OHP9A0 2022-07-01 16:02:25   1000.0   1348.5  M-Shwari Withdraw   \n",
       "4  QG16OF8PA4 2022-07-01 15:31:39      0.0    348.5   Merchant Payment   \n",
       "\n",
       "   Withdrawn  \n",
       "0       50.0  \n",
       "1       23.0  \n",
       "2      500.0  \n",
       "3        0.0  \n",
       "4      120.0  "
      ]
     },
     "execution_count": 30,
     "metadata": {},
     "output_type": "execute_result"
    }
   ],
   "source": [
    "Data.head()"
   ]
  },
  {
   "cell_type": "code",
   "execution_count": 31,
   "metadata": {},
   "outputs": [],
   "source": [
    "Data.to_csv('../data/TransactionData.csv', index=False)"
   ]
  }
 ],
 "metadata": {
  "kernelspec": {
   "display_name": "Python 3.8.10 64-bit",
   "language": "python",
   "name": "python3"
  },
  "language_info": {
   "codemirror_mode": {
    "name": "ipython",
    "version": 3
   },
   "file_extension": ".py",
   "mimetype": "text/x-python",
   "name": "python",
   "nbconvert_exporter": "python",
   "pygments_lexer": "ipython3",
   "version": "3.8.10"
  },
  "orig_nbformat": 4,
  "vscode": {
   "interpreter": {
    "hash": "916dbcbb3f70747c44a77c7bcd40155683ae19c65e1c03b4aa3499c5328201f1"
   }
  }
 },
 "nbformat": 4,
 "nbformat_minor": 2
}
